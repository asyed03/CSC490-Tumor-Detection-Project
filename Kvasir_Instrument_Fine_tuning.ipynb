{
  "cells": [
    {
      "cell_type": "markdown",
      "id": "a7e63909",
      "metadata": {
        "id": "a7e63909"
      },
      "source": [
        "# UniverSeg: Universal Medical Image Segmentation\n",
        "\n",
        "This colab notebook is tutorial and demonstration of various aspects of [UniverSeg](https://universeg.csail.mit.edu/).\n",
        "\n",
        "For demonstration, we employ two datasets, [WBC](https://github.com/zxaoyou/segmentation_WBC) and [OASIS](https://github.com/adalca/medical-datasets/blob/master/neurite-oasis.md)\n",
        "\n",
        "For more information about UniverSeg please visit the website.\n",
        "\n",
        "> For GPU acceleration go to Edit > Notebook Settings  and for Hardware Accelerator select GPU\n",
        "\n"
      ]
    },
    {
      "cell_type": "markdown",
      "id": "b148feb6",
      "metadata": {
        "id": "b148feb6"
      },
      "source": [
        "\n",
        "## 1. Setup\n",
        "\n",
        "First, we clone the UniverSeg repo and install necessary dependencies"
      ]
    },
    {
      "cell_type": "code",
      "execution_count": 1,
      "id": "fd3add60",
      "metadata": {
        "id": "fd3add60",
        "colab": {
          "base_uri": "https://localhost:8080/"
        },
        "outputId": "4f0bc244-28ae-4c0d-c08f-59f64bc9af62"
      },
      "outputs": [
        {
          "output_type": "stream",
          "name": "stdout",
          "text": [
            "Cloning into 'UniverSeg'...\n",
            "remote: Enumerating objects: 230, done.\u001b[K\n",
            "remote: Counting objects: 100% (14/14), done.\u001b[K\n",
            "remote: Compressing objects: 100% (10/10), done.\u001b[K\n",
            "remote: Total 230 (delta 4), reused 8 (delta 3), pack-reused 216\u001b[K\n",
            "Receiving objects: 100% (230/230), 35.26 MiB | 13.62 MiB/s, done.\n",
            "Resolving deltas: 100% (100/100), done.\n",
            "Collecting einops (from -r ./UniverSeg/requirements.txt (line 1))\n",
            "  Downloading einops-0.7.0-py3-none-any.whl (44 kB)\n",
            "\u001b[2K     \u001b[90m━━━━━━━━━━━━━━━━━━━━━━━━━━━━━━━━━━━━━━━━\u001b[0m \u001b[32m44.6/44.6 kB\u001b[0m \u001b[31m794.3 kB/s\u001b[0m eta \u001b[36m0:00:00\u001b[0m\n",
            "\u001b[?25hRequirement already satisfied: torch in /usr/local/lib/python3.10/dist-packages (from -r ./UniverSeg/requirements.txt (line 2)) (2.1.0+cu118)\n",
            "Requirement already satisfied: pydantic in /usr/local/lib/python3.10/dist-packages (from -r ./UniverSeg/requirements.txt (line 3)) (1.10.13)\n",
            "Requirement already satisfied: numpy in /usr/local/lib/python3.10/dist-packages (from -r ./UniverSeg/requirements.txt (line 4)) (1.23.5)\n",
            "Requirement already satisfied: Pillow in /usr/local/lib/python3.10/dist-packages (from -r ./UniverSeg/requirements.txt (line 5)) (9.4.0)\n",
            "Requirement already satisfied: nibabel in /usr/local/lib/python3.10/dist-packages (from -r ./UniverSeg/requirements.txt (line 6)) (4.0.2)\n",
            "Requirement already satisfied: filelock in /usr/local/lib/python3.10/dist-packages (from torch->-r ./UniverSeg/requirements.txt (line 2)) (3.13.1)\n",
            "Requirement already satisfied: typing-extensions in /usr/local/lib/python3.10/dist-packages (from torch->-r ./UniverSeg/requirements.txt (line 2)) (4.5.0)\n",
            "Requirement already satisfied: sympy in /usr/local/lib/python3.10/dist-packages (from torch->-r ./UniverSeg/requirements.txt (line 2)) (1.12)\n",
            "Requirement already satisfied: networkx in /usr/local/lib/python3.10/dist-packages (from torch->-r ./UniverSeg/requirements.txt (line 2)) (3.2.1)\n",
            "Requirement already satisfied: jinja2 in /usr/local/lib/python3.10/dist-packages (from torch->-r ./UniverSeg/requirements.txt (line 2)) (3.1.2)\n",
            "Requirement already satisfied: fsspec in /usr/local/lib/python3.10/dist-packages (from torch->-r ./UniverSeg/requirements.txt (line 2)) (2023.6.0)\n",
            "Requirement already satisfied: triton==2.1.0 in /usr/local/lib/python3.10/dist-packages (from torch->-r ./UniverSeg/requirements.txt (line 2)) (2.1.0)\n",
            "Requirement already satisfied: packaging>=17.0 in /usr/local/lib/python3.10/dist-packages (from nibabel->-r ./UniverSeg/requirements.txt (line 6)) (23.2)\n",
            "Requirement already satisfied: setuptools in /usr/local/lib/python3.10/dist-packages (from nibabel->-r ./UniverSeg/requirements.txt (line 6)) (67.7.2)\n",
            "Requirement already satisfied: MarkupSafe>=2.0 in /usr/local/lib/python3.10/dist-packages (from jinja2->torch->-r ./UniverSeg/requirements.txt (line 2)) (2.1.3)\n",
            "Requirement already satisfied: mpmath>=0.19 in /usr/local/lib/python3.10/dist-packages (from sympy->torch->-r ./UniverSeg/requirements.txt (line 2)) (1.3.0)\n",
            "Installing collected packages: einops\n",
            "Successfully installed einops-0.7.0\n"
          ]
        }
      ],
      "source": [
        "!git clone https://github.com/JJGO/UniverSeg\n",
        "!python -m pip install -r ./UniverSeg/requirements.txt"
      ]
    },
    {
      "cell_type": "code",
      "source": [
        "import math\n",
        "import itertools\n",
        "\n",
        "from tqdm.auto import tqdm\n",
        "import numpy as np\n",
        "import matplotlib.pyplot as plt\n",
        "\n",
        "import einops as E"
      ],
      "metadata": {
        "id": "95OQTJF92NfN"
      },
      "id": "95OQTJF92NfN",
      "execution_count": 2,
      "outputs": []
    },
    {
      "cell_type": "markdown",
      "source": [
        "Prepare `universeg`: import, setup GPU, and load model"
      ],
      "metadata": {
        "id": "Aw_fBxCX5ynM"
      },
      "id": "Aw_fBxCX5ynM"
    },
    {
      "cell_type": "code",
      "source": [
        "import sys\n",
        "sys.path.append('UniverSeg')\n",
        "\n",
        "import torch\n",
        "device = 'cuda' if torch.cuda.is_available() else 'cpu'\n",
        "\n",
        "from universeg import universeg\n",
        "model = universeg(pretrained=True)\n",
        "_ = model.to(device)"
      ],
      "metadata": {
        "id": "TubtBD0c3yaT",
        "colab": {
          "base_uri": "https://localhost:8080/"
        },
        "outputId": "5dc9f986-f4a4-4937-c722-6a711d70cb68"
      },
      "id": "TubtBD0c3yaT",
      "execution_count": 3,
      "outputs": [
        {
          "output_type": "stream",
          "name": "stderr",
          "text": [
            "Downloading: \"https://github.com/JJGO/UniverSeg/releases/download/weights/universeg_v1_nf64_ss64_STA.pt\" to /root/.cache/torch/hub/checkpoints/universeg_v1_nf64_ss64_STA.pt\n",
            "100%|██████████| 4.53M/4.53M [00:00<00:00, 281MB/s]\n"
          ]
        }
      ]
    },
    {
      "cell_type": "markdown",
      "source": [
        "Prepare a quick helpful function for visualizing data for this tutorial"
      ],
      "metadata": {
        "id": "wBimjB4Q58_I"
      },
      "id": "wBimjB4Q58_I"
    },
    {
      "cell_type": "code",
      "source": [
        "def visualize_tensors(tensors, col_wrap=8, col_names=None, title=None):\n",
        "    M = len(tensors)\n",
        "    N = len(next(iter(tensors.values())))\n",
        "\n",
        "    cols = col_wrap\n",
        "    rows = math.ceil(N/cols) * M\n",
        "\n",
        "    d = 2.5\n",
        "    fig, axes = plt.subplots(rows, cols, figsize=(d*cols, d*rows))\n",
        "    if rows == 1:\n",
        "      axes = axes.reshape(1, cols)\n",
        "\n",
        "    for g, (grp, tensors) in enumerate(tensors.items()):\n",
        "        for k, tensor in enumerate(tensors):\n",
        "            col = k % cols\n",
        "            row = g + M*(k//cols)\n",
        "            x = tensor.detach().cpu().numpy().squeeze()\n",
        "            ax = axes[row,col]\n",
        "            if len(x.shape) == 2:\n",
        "                ax.imshow(x,vmin=0, vmax=1, cmap='gray')\n",
        "            else:\n",
        "                ax.imshow(E.rearrange(x,'C H W -> H W C'))\n",
        "            if col == 0:\n",
        "                ax.set_ylabel(grp, fontsize=16)\n",
        "            if col_names is not None and row == 0:\n",
        "                ax.set_title(col_names[col])\n",
        "\n",
        "    for i in range(rows):\n",
        "        for j in range(cols):\n",
        "            ax = axes[i,j]\n",
        "            ax.grid(False)\n",
        "            ax.set_xticks([])\n",
        "            ax.set_yticks([])\n",
        "\n",
        "    if title:\n",
        "        plt.suptitle(title, fontsize=20)\n",
        "\n",
        "    plt.tight_layout()"
      ],
      "metadata": {
        "id": "PNwfOExR2M85"
      },
      "id": "PNwfOExR2M85",
      "execution_count": 4,
      "outputs": []
    },
    {
      "cell_type": "code",
      "source": [
        "# Dice metric for measuring volume agreement\n",
        "def dice_score(y_pred: torch.Tensor, y_true: torch.Tensor) -> float:\n",
        "    y_pred = y_pred.long()\n",
        "    y_true = y_true.long()\n",
        "    score = 2*(y_pred*y_true).sum() / (y_pred.sum() + y_true.sum())\n",
        "    return score.item()"
      ],
      "metadata": {
        "id": "32Wb6-q3_B80"
      },
      "id": "32Wb6-q3_B80",
      "execution_count": 5,
      "outputs": []
    },
    {
      "cell_type": "code",
      "source": [
        "import torch.nn as nn\n",
        "\n",
        "# Define a negative Dice loss to be minimized\n",
        "class DiceLoss(nn.Module):\n",
        "    def __init__(self):\n",
        "        super(DiceLoss, self).__init__()\n",
        "\n",
        "    def forward(self, y_pred, y_true):\n",
        "        return 1 - dice_score(y_pred, y_true)"
      ],
      "metadata": {
        "id": "Wn-6wJoJw9OD"
      },
      "id": "Wn-6wJoJw9OD",
      "execution_count": 6,
      "outputs": []
    },
    {
      "cell_type": "code",
      "source": [
        "# run inference and compute losses for one test image\n",
        "def inference(model, image, label, support_images, support_labels):\n",
        "    # image, label = image.to(device), label.to(device)\n",
        "\n",
        "    # inference\n",
        "    logits = model(\n",
        "        image[None],\n",
        "        support_images[None],\n",
        "        support_labels[None]\n",
        "    )[0] # outputs are logits\n",
        "\n",
        "    soft_pred = torch.sigmoid(logits)\n",
        "    hard_pred = soft_pred.round().clip(0,1)\n",
        "\n",
        "    #  score\n",
        "    score = dice_score(hard_pred, label)\n",
        "\n",
        "    dice_loss = DiceLoss()\n",
        "\n",
        "\n",
        "    # return a dictionary of all relevant variables\n",
        "    return {'Image': image,\n",
        "            'Logits': logits,\n",
        "            'Loss': torch.tensor(dice_loss(hard_pred, label), requires_grad=True),\n",
        "            'Soft Prediction': soft_pred,\n",
        "            'Prediction': hard_pred,\n",
        "            'Ground Truth': label,\n",
        "            'score': score}"
      ],
      "metadata": {
        "id": "I-nXeiBC-uGn"
      },
      "id": "I-nXeiBC-uGn",
      "execution_count": 7,
      "outputs": []
    },
    {
      "cell_type": "markdown",
      "source": [
        "# 1. Test inference on KVASIR image seg dataset"
      ],
      "metadata": {
        "id": "9CligaI5tp7p"
      },
      "id": "9CligaI5tp7p"
    },
    {
      "cell_type": "code",
      "source": [
        "from google.colab import drive\n",
        "drive.mount('/content/gdrive')"
      ],
      "metadata": {
        "id": "LcAT57cI6ivX",
        "colab": {
          "base_uri": "https://localhost:8080/"
        },
        "outputId": "758138ec-4da7-4eca-885a-e7ed49e1bd80"
      },
      "id": "LcAT57cI6ivX",
      "execution_count": 8,
      "outputs": [
        {
          "output_type": "stream",
          "name": "stdout",
          "text": [
            "Mounted at /content/gdrive\n"
          ]
        }
      ]
    },
    {
      "cell_type": "code",
      "execution_count": 9,
      "metadata": {
        "colab": {
          "base_uri": "https://localhost:8080/"
        },
        "id": "1LR7EwVctkcD",
        "outputId": "4bddec49-433a-45a7-aa0d-7d38a7d4aaaf"
      },
      "outputs": [
        {
          "output_type": "stream",
          "name": "stdout",
          "text": [
            "training set size: 800, validation set size: 100, testing set size: 100\n",
            "dataset size: 1000\n"
          ]
        }
      ],
      "source": [
        "import os\n",
        "import numpy as np\n",
        "import cv2\n",
        "import torch\n",
        "from torchvision import transforms\n",
        "from PIL import Image\n",
        "from collections import defaultdict\n",
        "from torch.utils.data import random_split, DataLoader, TensorDataset\n",
        "\n",
        "folder_name = '/content/gdrive/MyDrive/Kvasir-SEG/'\n",
        "\n",
        "imagenames = os.listdir(folder_name + 'images')\n",
        "\n",
        "kvasir_dataset = []\n",
        "for imgname in imagenames:\n",
        "  with open(f'/content/gdrive/MyDrive/Kvasir-SEG/images/{imgname}', 'r') as images_file, open(f\"/content/gdrive/MyDrive/Kvasir-SEG/masks/{imgname}\", 'r')  as masks_file:\n",
        "    kvasir_dataset.append((images_file, masks_file))\n",
        "\n",
        "# split dataset\n",
        "#n_support = 40\n",
        "\n",
        "### CONVERT ####\n",
        "convert_tensor = transforms.ToTensor()\n",
        "\n",
        "kvasir_images = []\n",
        "kvasir_labels = []\n",
        "\n",
        "for i in range(len(kvasir_dataset)):\n",
        "    img = Image.open(kvasir_dataset[i][0].name)\n",
        "    seg_mask = Image.open(kvasir_dataset[i][1].name)\n",
        "\n",
        "    # Resize\n",
        "    img = img.resize((128, 128))\n",
        "    seg_mask = seg_mask.resize((128, 128))\n",
        "\n",
        "    # Convert to grayscale\n",
        "    img = img.convert(\"L\")\n",
        "    seg_mask = seg_mask.convert(\"L\")\n",
        "\n",
        "    tensor_img = convert_tensor(img)\n",
        "    tensor_lbl = convert_tensor(seg_mask)\n",
        "\n",
        "    kvasir_images.append(tensor_img)\n",
        "    kvasir_labels.append(tensor_lbl)\n",
        "\n",
        "# Convert lists to PyTorch tensors\n",
        "kvasir_images = torch.stack(kvasir_images)\n",
        "kvasir_labels = torch.stack(kvasir_labels)\n",
        "\n",
        "# Combine images and labels into a TensorDataset\n",
        "kvasir_dataset = TensorDataset(kvasir_images, kvasir_labels)\n",
        "\n",
        "### CONVERT ####\n",
        "\n",
        "# Define the sizes for training, testing, and validation sets\n",
        "total_size = len(kvasir_dataset)\n",
        "train_size = int(0.8 * total_size)\n",
        "test_size = int(0.1 * total_size)\n",
        "val_size = total_size - train_size - test_size\n",
        "\n",
        "# Use random_split to create datasets for training, testing, and validation\n",
        "train_dataset, test_dataset, val_dataset = random_split(kvasir_dataset, [train_size, test_size, val_size])\n",
        "\n",
        "# set batch size\n",
        "batch_size = 64\n",
        "# Create DataLoaders for each set\n",
        "train_loader = DataLoader(train_dataset, batch_size=batch_size, shuffle=True)\n",
        "test_loader = DataLoader(test_dataset, batch_size=batch_size, shuffle=False)\n",
        "val_loader = DataLoader(val_dataset, batch_size=batch_size, shuffle=False)\n",
        "\n",
        "\n",
        "print(f\"training set size: {len(train_loader.dataset)},\", f\"validation set size: {len(test_loader.dataset)},\", f\"testing set size: {len(val_loader.dataset)}\")\n",
        "print(f\"dataset size: {len(kvasir_dataset)}\")"
      ],
      "id": "1LR7EwVctkcD"
    },
    {
      "cell_type": "markdown",
      "source": [
        "\n",
        "\n",
        "\n",
        "# Training\n",
        "\n"
      ],
      "metadata": {
        "id": "XUHezLSgP0l4"
      },
      "id": "XUHezLSgP0l4"
    },
    {
      "cell_type": "code",
      "source": [
        "print(train_loader)\n",
        "task_batch = next(iter(train_loader))\n",
        "print(task_batch[0].size())"
      ],
      "metadata": {
        "colab": {
          "base_uri": "https://localhost:8080/"
        },
        "id": "SvhX3IdOkrJP",
        "outputId": "0a3da3d3-0f04-47b2-8c79-e90e60e312fb"
      },
      "id": "SvhX3IdOkrJP",
      "execution_count": 10,
      "outputs": [
        {
          "output_type": "stream",
          "name": "stdout",
          "text": [
            "<torch.utils.data.dataloader.DataLoader object at 0x7bb0a41593f0>\n",
            "torch.Size([64, 1, 128, 128])\n"
          ]
        }
      ]
    },
    {
      "cell_type": "code",
      "source": [
        "import torch\n",
        "import torch.nn as nn\n",
        "import torch.optim as optim\n",
        "from torch.utils.data import DataLoader\n",
        "from tqdm import tqdm\n",
        "from collections import defaultdict\n",
        "\n",
        "# Assuming you have implemented the UniverSeg model class\n",
        "model = universeg(pretrained=True)\n",
        "_ = model.to(device)\n",
        "model.train()\n",
        "\n",
        "# # Set the device (GPU or CPU)\n",
        "# device = torch.device(\"cuda\" if torch.cuda.is_available() else \"cpu\")\n",
        "# model.to(device)\n",
        "\n",
        "# Define optimizer and learning rate\n",
        "optimizer = optim.SGD(model.parameters(), lr=0.0001)\n",
        "\n",
        "def Lseg(y_pred, y_true):\n",
        "    # Ensure that y_true is a long tensor (containing class indices)\n",
        "    y_true = y_true.long()\n",
        "\n",
        "    # Calculate the cross-entropy loss\n",
        "    criterion = nn.CrossEntropyLoss()\n",
        "    loss = criterion(y_pred, y_true)\n",
        "\n",
        "    return loss\n",
        "\n",
        "# Define training loop\n",
        "def train_universeg(model, dataloader, optimizer, device, num_epochs, plot_every=1):\n",
        "\n",
        "    scores = []\n",
        "    epoch_idxs = []\n",
        "\n",
        "    for epoch in range(num_epochs):\n",
        "      model.train()\n",
        "      epoch_loss = 0\n",
        "      counter = 0\n",
        "      for batch_idx, (images, labels) in enumerate(dataloader):\n",
        "        support_images, support_labels = images[32:], labels[32:]\n",
        "        # Move data to device\n",
        "        support_images, support_labels = support_images.to(device), support_labels.to(device)\n",
        "        for i in range(32):\n",
        "          query_image, query_label = images[i], labels[i]\n",
        "          query_image, query_label = query_image.to(device), query_label.to(device)\n",
        "\n",
        "          # Forward pass\n",
        "          results = inference(model, query_image, query_label, support_images, support_labels)\n",
        "\n",
        "          logits = results['Logits']\n",
        "\n",
        "          # Compute segmentation loss\n",
        "          loss = results['Loss']\n",
        "          epoch_loss += loss.item()\n",
        "          counter += 1\n",
        "          # print(f\"\\n loss: {loss}\")\n",
        "\n",
        "          # Backward pass and optimization\n",
        "          optimizer.zero_grad()\n",
        "          loss.backward()\n",
        "          optimizer.step()\n",
        "\n",
        "      if epoch % plot_every == 0:\n",
        "        avg_epoch_dice = epoch_loss / counter\n",
        "        scores.append(avg_epoch_dice)\n",
        "        epoch_idxs.append(epoch)\n",
        "\n",
        "    plt.plot(epoch_idxs, scores, marker='o')\n",
        "    print(f\"epochs: {epoch_idxs}\")\n",
        "    print(f\"scores: {scores}\")\n",
        "\n",
        "    plt.xlabel('Epoch')\n",
        "    plt.ylabel('Average Dice Loss')\n",
        "    plt.title('Dice Loss over Epochs')\n",
        "    plt.show()\n",
        "\n",
        "# Example usage\n",
        "n_epochs = 10  # Adjust based on your dataset size and training preferences\n",
        "\n",
        "# train_dataloader = DataLoader(kvasir_train, batch_size=batch_size, shuffle=True)\n",
        "\n",
        "train_universeg(model, train_loader, optimizer, device, n_epochs, plot_every=1)\n",
        "\n"
      ],
      "metadata": {
        "colab": {
          "base_uri": "https://localhost:8080/",
          "height": 527
        },
        "id": "_83Q8okvjJ9P",
        "outputId": "fb249a45-5d1c-4af9-e37a-d2597c2cbdc0"
      },
      "id": "_83Q8okvjJ9P",
      "execution_count": 11,
      "outputs": [
        {
          "output_type": "stream",
          "name": "stdout",
          "text": [
            "epochs: [0, 1, 2, 3, 4, 5, 6, 7, 8, 9]\n",
            "scores: [0.5523475392793233, 0.5587567219940516, 0.5548072369912496, 0.5606815061317041, 0.5507071955272784, 0.5445059161060132, 0.5518138057623918, 0.5423686431291012, 0.5391603893098923, 0.5517249828061233]\n"
          ]
        },
        {
          "output_type": "display_data",
          "data": {
            "text/plain": [
              "<Figure size 640x480 with 1 Axes>"
            ],
            "image/png": "[encoded data removed]"
          },
          "metadata": {}
        }
      ]
    },
    {
      "cell_type": "code",
      "source": [
        "# test inference using newly trained model\n",
        "# weights_path = 'trained_model_weights.pth'\n",
        "# loaded_model = torch.load(weights_path)\n",
        "model.eval()\n",
        "\n",
        "total_score = 0\n",
        "total_loss = 0\n",
        "counter = 0\n",
        "for batch_idx, (images, labels) in enumerate(test_loader):\n",
        "  support_images, support_labels = images[32:], labels[32:]\n",
        "  # Move data to device\n",
        "  support_images, support_labels = support_images.to(device), support_labels.to(device)\n",
        "  for i in range(32):\n",
        "    query_image, query_label = images[i], labels[i]\n",
        "    query_image, query_label = query_image.to(device), query_label.to(device)\n",
        "\n",
        "    # Forward pass\n",
        "    results = inference(model, query_image, query_label, support_images, support_labels)\n",
        "\n",
        "\n",
        "    # compute score\n",
        "    total_score += results['score']\n",
        "\n",
        "    # Compute segmentation loss\n",
        "    loss = results['Loss']\n",
        "    total_loss += loss.item()\n",
        "    counter += 1\n",
        "\n",
        "\n",
        "avg_loss = total_loss/counter\n",
        "avg_score = total_score/counter\n",
        "# visualize_tensors(results,\n",
        "#                   col_names=[f'Dice = {100*s:.1f}' for s in scores],\n",
        "#                   title='Test Predictions',\n",
        "#                   col_wrap=n_predictions)\n",
        "print(f\"average test set loss: {avg_loss}\")\n",
        "print(f\"average test set dice score: {avg_score}\")"
      ],
      "metadata": {
        "colab": {
          "base_uri": "https://localhost:8080/"
        },
        "id": "L3-YCUgszjlc",
        "outputId": "7b32e232-4c5e-47fc-c9bc-ccb44a5ef996"
      },
      "id": "L3-YCUgszjlc",
      "execution_count": 12,
      "outputs": [
        {
          "output_type": "stream",
          "name": "stdout",
          "text": [
            "average test set loss: 0.6390428729355335\n",
            "average test set dice score: 0.3609571231454538\n"
          ]
        }
      ]
    },
    {
      "cell_type": "code",
      "source": [
        "weights_path = 'trained_model_weights.pth'\n",
        "torch.save(model, weights_path)"
      ],
      "metadata": {
        "id": "jONsIKA9UOAE"
      },
      "id": "jONsIKA9UOAE",
      "execution_count": null,
      "outputs": []
    }
  ],
  "metadata": {
    "kernelspec": {
      "display_name": "Python 3",
      "name": "python3"
    },
    "language_info": {
      "codemirror_mode": {
        "name": "ipython",
        "version": 3
      },
      "file_extension": ".py",
      "mimetype": "text/x-python",
      "name": "python",
      "nbconvert_exporter": "python",
      "pygments_lexer": "ipython3",
      "version": "3.9.12"
    },
    "colab": {
      "provenance": [],
      "gpuType": "T4"
    },
    "accelerator": "GPU"
  },
  "nbformat": 4,
  "nbformat_minor": 5
}